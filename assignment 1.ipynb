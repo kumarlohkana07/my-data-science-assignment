{
 "cells": [
  {
   "cell_type": "code",
   "execution_count": null,
   "id": "15e7897c-be3b-4705-b7d8-6f3098a3e45d",
   "metadata": {},
   "outputs": [],
   "source": [
    "Question = 1"
   ]
  },
  {
   "cell_type": "code",
   "execution_count": 1,
   "id": "4123aa12-1ab7-4437-acbe-8b5f0b4c0fd2",
   "metadata": {},
   "outputs": [],
   "source": [
    "a = 'vishnu kumar lohkana'"
   ]
  },
  {
   "cell_type": "code",
   "execution_count": 2,
   "id": "57ccf1b0-938d-4179-ba4a-a49444a1e53a",
   "metadata": {},
   "outputs": [
    {
     "data": {
      "text/plain": [
       "'vishnu kumar lohkana'"
      ]
     },
     "execution_count": 2,
     "metadata": {},
     "output_type": "execute_result"
    }
   ],
   "source": [
    "a"
   ]
  },
  {
   "cell_type": "code",
   "execution_count": 3,
   "id": "6d8c06a9-ebf5-462d-9244-16ef1ed84571",
   "metadata": {},
   "outputs": [
    {
     "data": {
      "text/plain": [
       "str"
      ]
     },
     "execution_count": 3,
     "metadata": {},
     "output_type": "execute_result"
    }
   ],
   "source": [
    "type(a)"
   ]
  },
  {
   "cell_type": "code",
   "execution_count": 6,
   "id": "d1b7575d-8801-4cd9-a06f-1c7db7e56512",
   "metadata": {},
   "outputs": [],
   "source": [
    "b = [6354, 51.27, \"vishnu\", 3+4j]"
   ]
  },
  {
   "cell_type": "code",
   "execution_count": 7,
   "id": "d93b1b47-dccb-4272-917e-c3ae53c58c7d",
   "metadata": {},
   "outputs": [
    {
     "data": {
      "text/plain": [
       "[6354, 51.27, 'vishnu', (3+4j)]"
      ]
     },
     "execution_count": 7,
     "metadata": {},
     "output_type": "execute_result"
    }
   ],
   "source": [
    "b"
   ]
  },
  {
   "cell_type": "code",
   "execution_count": 8,
   "id": "2d594c83-53a7-4e56-a756-9aed4b6d87e6",
   "metadata": {},
   "outputs": [
    {
     "data": {
      "text/plain": [
       "list"
      ]
     },
     "execution_count": 8,
     "metadata": {},
     "output_type": "execute_result"
    }
   ],
   "source": [
    "type(b)"
   ]
  },
  {
   "cell_type": "code",
   "execution_count": 9,
   "id": "3dd92f6f-ac4a-4ccb-8131-427596f38ce7",
   "metadata": {},
   "outputs": [],
   "source": [
    "c = 77.42"
   ]
  },
  {
   "cell_type": "code",
   "execution_count": 10,
   "id": "8acd9089-ace6-4607-b497-88d5810555ae",
   "metadata": {},
   "outputs": [
    {
     "data": {
      "text/plain": [
       "77.42"
      ]
     },
     "execution_count": 10,
     "metadata": {},
     "output_type": "execute_result"
    }
   ],
   "source": [
    "c"
   ]
  },
  {
   "cell_type": "code",
   "execution_count": 11,
   "id": "faea0940-06ea-43c8-a0e7-78316685d071",
   "metadata": {},
   "outputs": [
    {
     "data": {
      "text/plain": [
       "float"
      ]
     },
     "execution_count": 11,
     "metadata": {},
     "output_type": "execute_result"
    }
   ],
   "source": [
    "type(c)"
   ]
  },
  {
   "cell_type": "code",
   "execution_count": 12,
   "id": "81ef49b6-a14b-478f-97df-6f15286bb08f",
   "metadata": {},
   "outputs": [],
   "source": [
    "d = 1,2,3,4"
   ]
  },
  {
   "cell_type": "code",
   "execution_count": 13,
   "id": "61ddda09-452f-4d94-be38-f0f6505a7d76",
   "metadata": {},
   "outputs": [
    {
     "data": {
      "text/plain": [
       "(1, 2, 3, 4)"
      ]
     },
     "execution_count": 13,
     "metadata": {},
     "output_type": "execute_result"
    }
   ],
   "source": [
    "d"
   ]
  },
  {
   "cell_type": "code",
   "execution_count": 14,
   "id": "7e05a832-f5a4-488b-9052-ac18b629d08e",
   "metadata": {},
   "outputs": [
    {
     "data": {
      "text/plain": [
       "tuple"
      ]
     },
     "execution_count": 14,
     "metadata": {},
     "output_type": "execute_result"
    }
   ],
   "source": [
    "type(d)"
   ]
  },
  {
   "cell_type": "code",
   "execution_count": null,
   "id": "fe961ffd-9aad-4163-b913-5c651009f2aa",
   "metadata": {},
   "outputs": [],
   "source": [
    "Question = 2 "
   ]
  },
  {
   "cell_type": "code",
   "execution_count": 15,
   "id": "52fd3056-e044-4296-975e-99597ca3b1cd",
   "metadata": {},
   "outputs": [],
   "source": [
    "var1 = ' '"
   ]
  },
  {
   "cell_type": "code",
   "execution_count": 16,
   "id": "64296ce9-494d-4788-b3a2-f269a38af4c3",
   "metadata": {},
   "outputs": [
    {
     "data": {
      "text/plain": [
       "str"
      ]
     },
     "execution_count": 16,
     "metadata": {},
     "output_type": "execute_result"
    }
   ],
   "source": [
    "type(var1)"
   ]
  },
  {
   "cell_type": "code",
   "execution_count": 17,
   "id": "cb2ec79e-70db-43c2-aba7-0d48f6ef5e8d",
   "metadata": {},
   "outputs": [],
   "source": [
    "var2 = '[DS,ML,Python]'"
   ]
  },
  {
   "cell_type": "code",
   "execution_count": 18,
   "id": "6ea61726-bcce-41e8-a5be-835eb04243c4",
   "metadata": {},
   "outputs": [
    {
     "data": {
      "text/plain": [
       "str"
      ]
     },
     "execution_count": 18,
     "metadata": {},
     "output_type": "execute_result"
    }
   ],
   "source": [
    "type(var2)"
   ]
  },
  {
   "cell_type": "code",
   "execution_count": 19,
   "id": "55fb1b46-8895-4b09-93ad-014e6beaf191",
   "metadata": {},
   "outputs": [],
   "source": [
    "var3 = [ 'DS', 'ML', 'Python']"
   ]
  },
  {
   "cell_type": "code",
   "execution_count": 20,
   "id": "7a628030-53a3-47de-836a-33b59f94ee75",
   "metadata": {},
   "outputs": [
    {
     "data": {
      "text/plain": [
       "list"
      ]
     },
     "execution_count": 20,
     "metadata": {},
     "output_type": "execute_result"
    }
   ],
   "source": [
    "type(var3)"
   ]
  },
  {
   "cell_type": "code",
   "execution_count": 21,
   "id": "3f798e2a-dd69-48bf-bdad-422bd7605d7d",
   "metadata": {},
   "outputs": [],
   "source": [
    "var4 = 1"
   ]
  },
  {
   "cell_type": "code",
   "execution_count": 22,
   "id": "993409b8-0ecc-4691-9857-f5e14ec2239a",
   "metadata": {},
   "outputs": [
    {
     "data": {
      "text/plain": [
       "int"
      ]
     },
     "execution_count": 22,
     "metadata": {},
     "output_type": "execute_result"
    }
   ],
   "source": [
    "type(var4)"
   ]
  },
  {
   "cell_type": "code",
   "execution_count": null,
   "id": "ffb6e417-9eec-4568-8ffc-465c58a1812e",
   "metadata": {},
   "outputs": [],
   "source": [
    "Question = 3"
   ]
  },
  {
   "cell_type": "code",
   "execution_count": null,
   "id": "4c2343f3-cbf1-49c7-9bb0-cc7f250850e0",
   "metadata": {},
   "outputs": [],
   "source": [
    "1. / this is a division operator in python and its use perform division between two numbers. It returns the quotient of the division. For example"
   ]
  },
  {
   "cell_type": "code",
   "execution_count": 23,
   "id": "d472df03-016b-4b07-8797-43696fa95b9c",
   "metadata": {},
   "outputs": [
    {
     "data": {
      "text/plain": [
       "61.0"
      ]
     },
     "execution_count": 23,
     "metadata": {},
     "output_type": "execute_result"
    }
   ],
   "source": [
    "244/4"
   ]
  },
  {
   "cell_type": "code",
   "execution_count": null,
   "id": "59fcb84e-cb57-4c7b-a2c5-965f8f91d2fb",
   "metadata": {},
   "outputs": [],
   "source": [
    "2. % this is a modulor operator and its use find the remainder of the division between two numbers. For example "
   ]
  },
  {
   "cell_type": "code",
   "execution_count": 24,
   "id": "2cdda4c1-83e4-4064-ae54-9835fadb6e3b",
   "metadata": {},
   "outputs": [
    {
     "data": {
      "text/plain": [
       "1"
      ]
     },
     "execution_count": 24,
     "metadata": {},
     "output_type": "execute_result"
    }
   ],
   "source": [
    "57%4"
   ]
  },
  {
   "cell_type": "code",
   "execution_count": null,
   "id": "d28b5865-0ae2-4e05-9b13-47dc62b28f27",
   "metadata": {},
   "outputs": [],
   "source": [
    "3. // this is a floor division operator and its use which returns the integer of the division, rounding down to the nearest integer:"
   ]
  },
  {
   "cell_type": "code",
   "execution_count": 25,
   "id": "6ef36ba8-9f8e-4d21-b7e1-d7c4df69016a",
   "metadata": {},
   "outputs": [
    {
     "data": {
      "text/plain": [
       "3"
      ]
     },
     "execution_count": 25,
     "metadata": {},
     "output_type": "execute_result"
    }
   ],
   "source": [
    "10//3"
   ]
  },
  {
   "cell_type": "code",
   "execution_count": null,
   "id": "9b85e227-78b7-4d0e-9616-6e430f018134",
   "metadata": {},
   "outputs": [],
   "source": [
    "4. ** this is a exponent operator and its use find power of the operand"
   ]
  },
  {
   "cell_type": "code",
   "execution_count": 27,
   "id": "7da432bc-3c65-4625-beef-b7a1f0c46e9a",
   "metadata": {},
   "outputs": [
    {
     "data": {
      "text/plain": [
       "1728"
      ]
     },
     "execution_count": 27,
     "metadata": {},
     "output_type": "execute_result"
    }
   ],
   "source": [
    "12**3"
   ]
  },
  {
   "cell_type": "code",
   "execution_count": null,
   "id": "5572a856-14a0-46da-b240-054fbffce605",
   "metadata": {},
   "outputs": [],
   "source": [
    "Question = 4"
   ]
  },
  {
   "cell_type": "code",
   "execution_count": 29,
   "id": "5a055fd5-4ea0-407e-8d42-f1bfaaba0051",
   "metadata": {},
   "outputs": [
    {
     "name": "stdout",
     "output_type": "stream",
     "text": [
      "<class 'int'>\n",
      "<class 'str'>\n",
      "<class 'float'>\n",
      "<class 'bool'>\n",
      "<class 'str'>\n",
      "<class 'int'>\n",
      "<class 'complex'>\n",
      "<class 'str'>\n",
      "<class 'int'>\n",
      "<class 'str'>\n"
     ]
    }
   ],
   "source": [
    "f = [27,'vishnu',12.72, True, 'sneha',81,1+6j,'abc',23,'virat']\n",
    "for i in f:\n",
    "    print(type(i))"
   ]
  },
  {
   "cell_type": "code",
   "execution_count": null,
   "id": "45703499-898c-454e-8b21-af4573ae1b03",
   "metadata": {},
   "outputs": [],
   "source": [
    "Question = 5"
   ]
  },
  {
   "cell_type": "code",
   "execution_count": 38,
   "id": "a81a45cf-ce64-49ed-ad21-19448cf525bf",
   "metadata": {},
   "outputs": [
    {
     "name": "stdout",
     "output_type": "stream",
     "text": [
      "A is purely divisible by B\n",
      "A is purely divisible by B\n",
      "A is purely divisible by B\n"
     ]
    }
   ],
   "source": [
    "A = 27\n",
    "B = 3 \n",
    "while A%B == 0:\n",
    "    A/= B\n",
    "    print( \"A is purely divisible by B\" )\n"
   ]
  },
  {
   "cell_type": "code",
   "execution_count": null,
   "id": "70c2d2b0-3f0d-4653-8e7f-5d3fdd68205b",
   "metadata": {},
   "outputs": [],
   "source": [
    "Question = 6 "
   ]
  },
  {
   "cell_type": "code",
   "execution_count": 41,
   "id": "d883ce14-6944-476c-9623-665f65d585aa",
   "metadata": {},
   "outputs": [
    {
     "name": "stdout",
     "output_type": "stream",
     "text": [
      "i is not divisible by 3\n",
      "i is not divisible by 3\n",
      "i is divisible by 3\n",
      "i is not divisible by 3\n",
      "i is not divisible by 3\n",
      "i is divisible by 3\n",
      "i is not divisible by 3\n",
      "i is not divisible by 3\n",
      "i is divisible by 3\n",
      "i is not divisible by 3\n",
      "i is not divisible by 3\n",
      "i is divisible by 3\n",
      "i is not divisible by 3\n",
      "i is not divisible by 3\n",
      "i is divisible by 3\n",
      "i is not divisible by 3\n",
      "i is not divisible by 3\n",
      "i is divisible by 3\n",
      "i is not divisible by 3\n",
      "i is not divisible by 3\n",
      "i is divisible by 3\n",
      "i is not divisible by 3\n",
      "i is not divisible by 3\n",
      "i is divisible by 3\n",
      "i is not divisible by 3\n"
     ]
    }
   ],
   "source": [
    "n = [ 1,2,3,4,5,6,7,8,9,10,11,12,13,14,15,16,17,18,19,20,21,22,23,24,25]\n",
    "for i in n:\n",
    "    if i % 3 == 0:\n",
    "        print(\"i is divisible by 3\")\n",
    "    else:\n",
    "        print(\"i is not divisible by 3\")\n",
    "        "
   ]
  },
  {
   "cell_type": "code",
   "execution_count": null,
   "id": "e9df4e75-1ada-4466-add4-13302d78bebd",
   "metadata": {},
   "outputs": [],
   "source": [
    "Question = 7"
   ]
  },
  {
   "cell_type": "code",
   "execution_count": 42,
   "id": "4a4d4daf-5110-4636-b004-27ebddaaeb38",
   "metadata": {},
   "outputs": [],
   "source": [
    "s = \"vishnu\""
   ]
  },
  {
   "cell_type": "code",
   "execution_count": 44,
   "id": "fd2340e1-7240-4f76-95fe-de2ed567c7ac",
   "metadata": {},
   "outputs": [
    {
     "data": {
      "text/plain": [
       "'v'"
      ]
     },
     "execution_count": 44,
     "metadata": {},
     "output_type": "execute_result"
    }
   ],
   "source": [
    "s[1]"
   ]
  },
  {
   "cell_type": "code",
   "execution_count": 45,
   "id": "d1b3dc37-fc98-41ed-9cc6-92ee35454ade",
   "metadata": {},
   "outputs": [
    {
     "ename": "TypeError",
     "evalue": "'str' object does not support item assignment",
     "output_type": "error",
     "traceback": [
      "\u001b[0;31m---------------------------------------------------------------------------\u001b[0m",
      "\u001b[0;31mTypeError\u001b[0m                                 Traceback (most recent call last)",
      "Cell \u001b[0;32mIn[45], line 1\u001b[0m\n\u001b[0;32m----> 1\u001b[0m \u001b[43ms\u001b[49m\u001b[43m[\u001b[49m\u001b[38;5;241;43m1\u001b[39;49m\u001b[43m]\u001b[49m \u001b[38;5;241m=\u001b[39m s\n",
      "\u001b[0;31mTypeError\u001b[0m: 'str' object does not support item assignment"
     ]
    }
   ],
   "source": [
    "s[1] = s"
   ]
  },
  {
   "cell_type": "code",
   "execution_count": null,
   "id": "65c8cf27-ac41-4df8-9c9a-27c55f1e95de",
   "metadata": {},
   "outputs": [],
   "source": [
    "string is a immutuable object, because no change in string by index "
   ]
  },
  {
   "cell_type": "code",
   "execution_count": 47,
   "id": "cf2c59f3-8d9f-49ca-87c9-2b119d126215",
   "metadata": {},
   "outputs": [],
   "source": [
    "l = [ 123, \"vishnu\", 245, 1+3j]"
   ]
  },
  {
   "cell_type": "code",
   "execution_count": 48,
   "id": "2370f9c5-204c-466e-be8c-e829e6252ba0",
   "metadata": {},
   "outputs": [
    {
     "data": {
      "text/plain": [
       "'vishnu'"
      ]
     },
     "execution_count": 48,
     "metadata": {},
     "output_type": "execute_result"
    }
   ],
   "source": [
    "l[1]"
   ]
  },
  {
   "cell_type": "code",
   "execution_count": 51,
   "id": "738200d3-f7f0-4b0e-98c6-058aa8683d02",
   "metadata": {},
   "outputs": [],
   "source": [
    "l[1] = \"sneha\""
   ]
  },
  {
   "cell_type": "code",
   "execution_count": 52,
   "id": "66a3627d-f6cf-410d-8da3-87eaddc793cc",
   "metadata": {},
   "outputs": [
    {
     "data": {
      "text/plain": [
       "[123, 'sneha', 245, (1+3j)]"
      ]
     },
     "execution_count": 52,
     "metadata": {},
     "output_type": "execute_result"
    }
   ],
   "source": [
    "l"
   ]
  },
  {
   "cell_type": "code",
   "execution_count": null,
   "id": "2d87f280-d831-4256-bf9c-e6184bce052b",
   "metadata": {},
   "outputs": [],
   "source": [
    "list is a mutubale object because data will be cnage by object."
   ]
  }
 ],
 "metadata": {
  "kernelspec": {
   "display_name": "Python 3 (ipykernel)",
   "language": "python",
   "name": "python3"
  },
  "language_info": {
   "codemirror_mode": {
    "name": "ipython",
    "version": 3
   },
   "file_extension": ".py",
   "mimetype": "text/x-python",
   "name": "python",
   "nbconvert_exporter": "python",
   "pygments_lexer": "ipython3",
   "version": "3.10.8"
  }
 },
 "nbformat": 4,
 "nbformat_minor": 5
}
